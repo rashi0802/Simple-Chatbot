{
 "cells": [
  {
   "cell_type": "code",
   "execution_count": 1,
   "metadata": {},
   "outputs": [
    {
     "name": "stdout",
     "output_type": "stream",
     "text": [
      "Collecting nltk\n",
      "  Downloading nltk-3.6.2-py3-none-any.whl (1.5 MB)\n",
      "Requirement already satisfied: tqdm in c:\\users\\rashi\\appdata\\local\\programs\\python\\python37\\lib\\site-packages (from nltk) (4.60.0)\n",
      "Requirement already satisfied: joblib in c:\\users\\rashi\\appdata\\local\\programs\\python\\python37\\lib\\site-packages (from nltk) (1.0.1)\n",
      "Requirement already satisfied: click in c:\\users\\rashi\\appdata\\local\\programs\\python\\python37\\lib\\site-packages (from nltk) (7.1.2)\n",
      "Requirement already satisfied: regex in c:\\users\\rashi\\appdata\\local\\programs\\python\\python37\\lib\\site-packages (from nltk) (2021.4.4)\n",
      "Installing collected packages: nltk\n",
      "Successfully installed nltk-3.6.2\n"
     ]
    },
    {
     "name": "stderr",
     "output_type": "stream",
     "text": [
      "WARNING: You are using pip version 20.0.2; however, version 21.1 is available.\n",
      "You should consider upgrading via the 'c:\\users\\rashi\\appdata\\local\\programs\\python\\python37\\python.exe -m pip install --upgrade pip' command.\n"
     ]
    }
   ],
   "source": [
    "! pip install nltk"
   ]
  },
  {
   "cell_type": "code",
   "execution_count": null,
   "metadata": {},
   "outputs": [
    {
     "name": "stderr",
     "output_type": "stream",
     "text": [
      "c:\\users\\rashi\\appdata\\local\\programs\\python\\python37\\lib\\site-packages\\scipy\\__init__.py:140: UserWarning: A NumPy version >=1.16.5 and <1.23.0 is required for this version of SciPy (detected version 1.16.1)\n",
      "  UserWarning)\n"
     ]
    },
    {
     "name": "stdout",
     "output_type": "stream",
     "text": [
      ">hi\n",
      "hello\n",
      ">hello\n",
      "hi\n"
     ]
    }
   ],
   "source": [
    "from nltk.chat.util import Chat,reflections\n",
    "pairs=[\n",
    "    ['need help',['how can I help you']],['what is chatbot',['chatbot is a python program to help you']],['hi',['hello']],['hello',['hi']]\n",
    "]\n",
    "chat=Chat(pairs,reflections)\n",
    "chat.converse()"
   ]
  },
  {
   "cell_type": "code",
   "execution_count": null,
   "metadata": {},
   "outputs": [],
   "source": []
  }
 ],
 "metadata": {
  "kernelspec": {
   "display_name": "Python 3",
   "language": "python",
   "name": "python3"
  },
  "language_info": {
   "codemirror_mode": {
    "name": "ipython",
    "version": 3
   },
   "file_extension": ".py",
   "mimetype": "text/x-python",
   "name": "python",
   "nbconvert_exporter": "python",
   "pygments_lexer": "ipython3",
   "version": "3.7.7"
  }
 },
 "nbformat": 4,
 "nbformat_minor": 4
}
